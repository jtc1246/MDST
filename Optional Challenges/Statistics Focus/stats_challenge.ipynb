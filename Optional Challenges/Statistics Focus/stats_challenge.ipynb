{
 "cells": [
  {
   "cell_type": "markdown",
   "metadata": {},
   "source": [
    "# Statistics Challenge (Optional)"
   ]
  },
  {
   "attachments": {},
   "cell_type": "markdown",
   "metadata": {},
   "source": [
    "Use the `orders.csv` dataset in the same directory to complete this challenge.\n",
    "\n",
    "**Background**:\n",
    "\n",
    "There are exactly 100 sneaker shops on a sneaker retailing website, and each of these shops sells only one model of shoe. We want to do some analysis of the average order value (AOV). When we look at orders data over a 30 day window, we naively calculate an AOV of $3145.13. Given that we know these shops are selling sneakers, a relatively affordable item, something seems wrong with our analysis. \n",
    "\n",
    "**Questions**:\n",
    "\n",
    "- What went wrong with this metric (AOV) and the current analysis in general. Support your answers with appropriate visualizations.\n",
    "\n",
    "- Propose a new metric that better represents the behavior of the stores' customers. Why are these metrics better and what are their values?\n",
    "\n",
    "- Using the `created_at` column as a proxy for the date and time of order creation, provide a brief analysis of the trends in the customers' purchasing behavior.\n",
    "\n",
    "Show all of your work in this notebook."
   ]
  },
  {
   "cell_type": "markdown",
   "metadata": {},
   "source": [
    "### 1. What went wrong with this metric (AOV) and the current analysis in general. Support your answers with appropriate visualizations."
   ]
  },
  {
   "cell_type": "markdown",
   "metadata": {},
   "source": [
    "Most of the order values are much lower than AOV $3145.13, so this average value deviates too much from most of the orders, and it cannot reflect the general situation. \n",
    "\n",
    "We can use a boxplot to show the general distribution of data."
   ]
  },
  {
   "cell_type": "code",
   "execution_count": null,
   "metadata": {},
   "outputs": [],
   "source": [
    "import pandas as pd\n",
    "import matplotlib.pyplot as plt\n",
    "import seaborn as sns\n",
    "\n",
    "df = pd.read_csv('orders.csv')\n",
    "sns.boxplot(x=df['order_value'])\n",
    "plt.title('Boxplot of Order Value')\n",
    "plt.show()\n"
   ]
  },
  {
   "cell_type": "markdown",
   "metadata": {},
   "source": [
    "However, in this boxplot, the large order value is too large, so we can't see the main part of this boxplot. Therefore, I consider using the log of order value."
   ]
  },
  {
   "cell_type": "code",
   "execution_count": null,
   "metadata": {},
   "outputs": [],
   "source": [
    "import numpy as np\n",
    "\n",
    "df = pd.read_csv('orders.csv')\n",
    "df['log_order_value'] = np.log(df['order_value'])\n",
    "sns.boxplot(x=df['log_order_value'])\n",
    "plt.title('Boxplot of Log-transformed Order Value')\n",
    "plt.show()\n"
   ]
  },
  {
   "cell_type": "markdown",
   "metadata": {},
   "source": [
    "From this boxplot, we can see that there are some large values divating from other values a lot, which causes the average value to be larger than normal."
   ]
  },
  {
   "cell_type": "markdown",
   "metadata": {},
   "source": [
    "### 2. Propose a new metric that better represents the behavior of the stores' customers. Why are these metrics better and what are their values?"
   ]
  },
  {
   "cell_type": "markdown",
   "metadata": {},
   "source": [
    "We can use the median value instead of the average value, as a few extreme large value will not affect the median value too much. Median value can reflect the general situation of customers' choices."
   ]
  },
  {
   "cell_type": "markdown",
   "metadata": {},
   "source": [
    "### 3. Using the `created_at` column as a proxy for the date and time of order creation, provide a brief analysis of the trends in the customers' purchasing behavior."
   ]
  },
  {
   "cell_type": "code",
   "execution_count": null,
   "metadata": {},
   "outputs": [],
   "source": [
    "import matplotlib.dates as mdates\n",
    "\n",
    "df = pd.read_csv('orders.csv')\n",
    "df['created_at'] = pd.to_datetime(df['created_at'])\n",
    "df.set_index('created_at', inplace=True)\n",
    "daily_orders = df.resample('D').apply({'order_id': 'count', 'order_value': 'sum'})\n",
    "fig, ax1 = plt.subplots()\n",
    "ax1.xaxis.set_major_formatter(mdates.DateFormatter('%d'))\n",
    "\n",
    "color = 'tab:red'\n",
    "ax1.set_xlabel('Date')\n",
    "ax1.set_ylabel('Daily Orders', color=color)\n",
    "ax1.plot(daily_orders.index, daily_orders['order_id'], color=color)\n",
    "ax1.tick_params(axis='y', labelcolor=color)\n",
    "\n",
    "ax2 = ax1.twinx()\n",
    "color = 'tab:blue'\n",
    "ax2.set_ylabel('Daily Order Value', color=color)\n",
    "ax2.plot(daily_orders.index, daily_orders['order_value'], color=color)\n",
    "ax2.tick_params(axis='y', labelcolor=color)\n",
    "\n",
    "fig.tight_layout()\n",
    "plt.title('Daily Orders and Order Value')\n",
    "plt.show()\n"
   ]
  },
  {
   "cell_type": "markdown",
   "metadata": {},
   "source": [
    "This is a graph of the orders and total order value each day. We can see that the value each day is changing very fast."
   ]
  },
  {
   "cell_type": "code",
   "execution_count": null,
   "metadata": {},
   "outputs": [],
   "source": [
    "df = pd.read_csv('orders.csv')\n",
    "df['created_at'] = pd.to_datetime(df['created_at'])\n",
    "df['weekday'] = df['created_at'].dt.weekday\n",
    "weekday_orders = df.groupby('weekday').agg({'order_id': 'count', 'order_value': 'sum'}).reset_index()\n",
    "weekday_names = ['Sunday', 'Monday', 'Tuesday', 'Wednesday', 'Thursday', 'Friday', 'Saturday']\n",
    "x = np.arange(len(weekday_names))\n",
    "width = 0.35\n",
    "fig, ax1 = plt.subplots()\n",
    "\n",
    "rects1 = ax1.bar(x - width / 2, weekday_orders['order_id'], width, color='tab:red')\n",
    "ax1.set_xlabel('Weekday')\n",
    "ax1.set_ylabel('Orders Count', color='tab:red')\n",
    "ax1.set_xticks(x)\n",
    "ax1.set_xticklabels(weekday_names)\n",
    "ax1.tick_params(axis='y', labelcolor='tab:red')\n",
    "ax2 = ax1.twinx()\n",
    "\n",
    "rects2 = ax2.bar(x + width / 2, weekday_orders['order_value'], width, color='tab:blue')\n",
    "ax2.set_ylabel('Total Order Value', color='tab:blue')\n",
    "ax2.tick_params(axis='y', labelcolor='tab:blue')\n",
    "\n",
    "fig.tight_layout()\n",
    "plt.title('Weekday Orders and Order Value')\n",
    "plt.show()\n"
   ]
  },
  {
   "cell_type": "markdown",
   "metadata": {},
   "source": [
    "This is a graph of the orders and total order value in each week day. We can see that the total order value in Sunday is very small, and on Monday it is largest. The number of orders don't differ much in each week day."
   ]
  },
  {
   "cell_type": "code",
   "execution_count": null,
   "metadata": {},
   "outputs": [],
   "source": [
    "df = pd.read_csv('orders.csv')\n",
    "df['created_at'] = pd.to_datetime(df['created_at'])\n",
    "df['hour'] = df['created_at'].dt.hour\n",
    "hourly_orders = df.groupby('hour').agg({'order_id': 'count', 'order_value': 'sum'}).reset_index()\n",
    "fig, ax1 = plt.subplots(figsize=(10, 6))\n",
    "\n",
    "ax1.plot(hourly_orders['hour'], hourly_orders['order_id'], color='tab:red', marker='o', label='Total Orders')\n",
    "ax1.set_xlabel('Hour of the Day')\n",
    "ax1.set_ylabel('Total Orders', color='tab:red')\n",
    "ax1.tick_params(axis='y', labelcolor='tab:red')\n",
    "ax1.set_ylim([0, hourly_orders['order_id'].max() + 10])\n",
    "\n",
    "ax2 = ax1.twinx()\n",
    "ax2.plot(hourly_orders['hour'], hourly_orders['order_value'], color='tab:blue', marker='x', label='Total Order Value')\n",
    "ax2.set_ylabel('Total Order Value', color='tab:blue')\n",
    "ax2.tick_params(axis='y', labelcolor='tab:blue')\n",
    "ax2.set_ylim([0, hourly_orders['order_value'].max() + 1000000])\n",
    "\n",
    "plt.title('Total Orders and Order Value by Hour')\n",
    "ax1.grid(True)\n",
    "plt.show()\n"
   ]
  },
  {
   "cell_type": "markdown",
   "metadata": {},
   "source": [
    "This is a graph of the orders and total order value in each hour. We can see that the number of orders don't differ much in each hour. But between 4 am to 5 am, the total order value is much higher than all the other hours. "
   ]
  }
 ],
 "metadata": {
  "kernelspec": {
   "display_name": "Python 3.9.0 64-bit",
   "language": "python",
   "name": "python3"
  },
  "language_info": {
   "codemirror_mode": {
    "name": "ipython",
    "version": 3
   },
   "file_extension": ".py",
   "mimetype": "text/x-python",
   "name": "python",
   "nbconvert_exporter": "python",
   "pygments_lexer": "ipython3",
   "version": "3.9.12"
  },
  "orig_nbformat": 4,
  "vscode": {
   "interpreter": {
    "hash": "6cf8df3ff69f85f626faf55c10df6fe2cb9d1236b4dc73844ee4dc01369c2c99"
   }
  }
 },
 "nbformat": 4,
 "nbformat_minor": 2
}
